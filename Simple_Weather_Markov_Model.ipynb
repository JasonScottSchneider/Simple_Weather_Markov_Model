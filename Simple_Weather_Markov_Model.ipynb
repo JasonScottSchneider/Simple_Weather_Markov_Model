{
 "cells": [
  {
   "cell_type": "markdown",
   "id": "08a31465",
   "metadata": {},
   "source": [
    "## Simple Weather Markov Model"
   ]
  },
  {
   "cell_type": "code",
   "execution_count": 1,
   "id": "91062278",
   "metadata": {},
   "outputs": [],
   "source": [
    "import numpy as np"
   ]
  },
  {
   "cell_type": "markdown",
   "id": "468d8f28",
   "metadata": {},
   "source": [
    "Let's create a dictionary as our matrix of probabilites for the next state of weather depending on the current state of weather."
   ]
  },
  {
   "cell_type": "code",
   "execution_count": 2,
   "id": "bed05452",
   "metadata": {},
   "outputs": [],
   "source": [
    "transition_prob = {'Sunny': {'Sunny':.8,'Rainy':.19,'Snowy':.01},'Rainy':{'Sunny':.2,'Rainy':.7,'Snowy':.1},'Snowy':{'Sunny':.1,'Rainy':.2,'Snowy':.7}}"
   ]
  },
  {
   "cell_type": "markdown",
   "id": "18153a98",
   "metadata": {},
   "source": [
    "Next, let's create list of possible states of weather (i.e., Sunny, Rainy, and Snowy) and start today's state of weather with Sunny."
   ]
  },
  {
   "cell_type": "code",
   "execution_count": 3,
   "id": "e65923fc",
   "metadata": {},
   "outputs": [],
   "source": [
    "next_state = list(transition_prob.keys())"
   ]
  },
  {
   "cell_type": "code",
   "execution_count": 4,
   "id": "063ca80b",
   "metadata": {},
   "outputs": [],
   "source": [
    "current_state = 'Sunny'"
   ]
  },
  {
   "cell_type": "markdown",
   "id": "13b29d99",
   "metadata": {},
   "source": [
    "Below, we are randomizing the next state if today is sunny. This will get us started before we begin making a series of weather predictions."
   ]
  },
  {
   "cell_type": "code",
   "execution_count": 5,
   "id": "d1c59b65",
   "metadata": {},
   "outputs": [
    {
     "name": "stdout",
     "output_type": "stream",
     "text": [
      "Tomorrow's weather will be Rainy with a chance of 0.19\n"
     ]
    }
   ],
   "source": [
    "# random.choice(array, (optional) corresponding probabilities for each item in array)\n",
    "weather = np.random.choice(next_state, p=[transition_prob[current_state][x] for x in transition_prob[current_state] ])\n",
    "print(\"Tomorrow's weather will be \"+weather+\" with a chance of \"+str(transition_prob[current_state][weather]))"
   ]
  },
  {
   "cell_type": "markdown",
   "id": "312b1d80",
   "metadata": {},
   "source": [
    "Set however many predictions we might want that occur in sequence after tomorrow's predicted state of weather."
   ]
  },
  {
   "cell_type": "code",
   "execution_count": 6,
   "id": "10f8d95b",
   "metadata": {},
   "outputs": [],
   "source": [
    "n = 30"
   ]
  },
  {
   "cell_type": "markdown",
   "id": "7a2a54c8",
   "metadata": {},
   "source": [
    "Let's predict the next ten days of weather after tomorrow's predicted weather."
   ]
  },
  {
   "cell_type": "code",
   "execution_count": 7,
   "id": "a117f149",
   "metadata": {},
   "outputs": [],
   "source": [
    "future_states = []\n",
    "future_states_p = []\n",
    "for i in range(n):\n",
    "    current_state = weather\n",
    "    weather = np.random.choice(next_state, p=[transition_prob[current_state][x] for x in transition_prob[current_state] ])\n",
    "    future_states.append(weather)\n",
    "    future_states_p.append(transition_prob[current_state][weather])"
   ]
  },
  {
   "cell_type": "code",
   "execution_count": 8,
   "id": "084b268c",
   "metadata": {},
   "outputs": [
    {
     "name": "stdout",
     "output_type": "stream",
     "text": [
      "The forecast for the weather for the next 30 days after tomorrow:\n",
      "1 day(s) after tomorrow's predicted weather: Snowy with a chance of 0.1\n",
      "2 day(s) after tomorrow's predicted weather: Snowy with a chance of 0.7\n",
      "3 day(s) after tomorrow's predicted weather: Snowy with a chance of 0.7\n",
      "4 day(s) after tomorrow's predicted weather: Snowy with a chance of 0.7\n",
      "5 day(s) after tomorrow's predicted weather: Rainy with a chance of 0.2\n",
      "6 day(s) after tomorrow's predicted weather: Rainy with a chance of 0.7\n",
      "7 day(s) after tomorrow's predicted weather: Snowy with a chance of 0.1\n",
      "8 day(s) after tomorrow's predicted weather: Snowy with a chance of 0.7\n",
      "9 day(s) after tomorrow's predicted weather: Rainy with a chance of 0.2\n",
      "10 day(s) after tomorrow's predicted weather: Sunny with a chance of 0.2\n",
      "11 day(s) after tomorrow's predicted weather: Sunny with a chance of 0.8\n",
      "12 day(s) after tomorrow's predicted weather: Sunny with a chance of 0.8\n",
      "13 day(s) after tomorrow's predicted weather: Rainy with a chance of 0.19\n",
      "14 day(s) after tomorrow's predicted weather: Rainy with a chance of 0.7\n",
      "15 day(s) after tomorrow's predicted weather: Sunny with a chance of 0.2\n",
      "16 day(s) after tomorrow's predicted weather: Sunny with a chance of 0.8\n",
      "17 day(s) after tomorrow's predicted weather: Sunny with a chance of 0.8\n",
      "18 day(s) after tomorrow's predicted weather: Sunny with a chance of 0.8\n",
      "19 day(s) after tomorrow's predicted weather: Sunny with a chance of 0.8\n",
      "20 day(s) after tomorrow's predicted weather: Sunny with a chance of 0.8\n",
      "21 day(s) after tomorrow's predicted weather: Sunny with a chance of 0.8\n",
      "22 day(s) after tomorrow's predicted weather: Sunny with a chance of 0.8\n",
      "23 day(s) after tomorrow's predicted weather: Sunny with a chance of 0.8\n",
      "24 day(s) after tomorrow's predicted weather: Rainy with a chance of 0.19\n",
      "25 day(s) after tomorrow's predicted weather: Rainy with a chance of 0.7\n",
      "26 day(s) after tomorrow's predicted weather: Rainy with a chance of 0.7\n",
      "27 day(s) after tomorrow's predicted weather: Rainy with a chance of 0.7\n",
      "28 day(s) after tomorrow's predicted weather: Rainy with a chance of 0.7\n",
      "29 day(s) after tomorrow's predicted weather: Rainy with a chance of 0.7\n",
      "30 day(s) after tomorrow's predicted weather: Rainy with a chance of 0.7\n"
     ]
    }
   ],
   "source": [
    "print(\"The forecast for the weather for the next \"+str(n)+\" days after tomorrow:\")\n",
    "count = 1\n",
    "for i in range(len(future_states)):\n",
    "    print(str(count)+\" day(s) after tomorrow's predicted weather: \"+future_states[i]+\" with a chance of \"+str(future_states_p[i]))\n",
    "    count += 1"
   ]
  }
 ],
 "metadata": {
  "kernelspec": {
   "display_name": "Python 3 (ipykernel)",
   "language": "python",
   "name": "python3"
  },
  "language_info": {
   "codemirror_mode": {
    "name": "ipython",
    "version": 3
   },
   "file_extension": ".py",
   "mimetype": "text/x-python",
   "name": "python",
   "nbconvert_exporter": "python",
   "pygments_lexer": "ipython3",
   "version": "3.10.9"
  }
 },
 "nbformat": 4,
 "nbformat_minor": 5
}
